{
 "cells": [
  {
   "cell_type": "markdown",
   "id": "c34761da",
   "metadata": {},
   "source": [
    "## Tugas 3"
   ]
  }
 ],
 "metadata": {
  "language_info": {
   "name": "python"
  }
 },
 "nbformat": 4,
 "nbformat_minor": 5
}
