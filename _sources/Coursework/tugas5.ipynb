{
 "cells": [
  {
   "cell_type": "markdown",
   "id": "6cdd0bf7",
   "metadata": {},
   "source": [
    "## Tugas 5"
   ]
  }
 ],
 "metadata": {
  "language_info": {
   "name": "python"
  }
 },
 "nbformat": 4,
 "nbformat_minor": 5
}
