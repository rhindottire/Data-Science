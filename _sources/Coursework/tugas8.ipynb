{
 "cells": [
  {
   "cell_type": "markdown",
   "id": "1f83d9dc",
   "metadata": {},
   "source": [
    "## Tugas 8"
   ]
  }
 ],
 "metadata": {
  "language_info": {
   "name": "python"
  }
 },
 "nbformat": 4,
 "nbformat_minor": 5
}
