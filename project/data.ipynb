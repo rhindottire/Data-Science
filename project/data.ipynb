{
 "cells": [
  {
   "cell_type": "markdown",
   "id": "606977e3",
   "metadata": {},
   "source": [
    "# Data Understanding"
   ]
  }
 ],
 "metadata": {
  "language_info": {
   "name": "python"
  }
 },
 "nbformat": 4,
 "nbformat_minor": 5
}
