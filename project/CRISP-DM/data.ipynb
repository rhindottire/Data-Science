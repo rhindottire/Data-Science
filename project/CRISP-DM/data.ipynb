{
 "cells": [
  {
   "cell_type": "markdown",
   "id": "606977e3",
   "metadata": {},
   "source": [
    "# Data Understanding"
   ]
  },
  {
   "cell_type": "markdown",
   "id": "69983298",
   "metadata": {},
   "source": [
    "## Data Gathering"
   ]
  },
  {
   "cell_type": "code",
   "execution_count": 15,
   "id": "fd2d8a8b",
   "metadata": {},
   "outputs": [
    {
     "name": "stdout",
     "output_type": "stream",
     "text": [
      "<class 'pandas.core.frame.DataFrame'>\n",
      "RangeIndex: 50000 entries, 0 to 49999\n",
      "Data columns (total 16 columns):\n",
      " #   Column                   Non-Null Count  Dtype \n",
      "---  ------                   --------------  ----- \n",
      " 0   Product                  50000 non-null  object\n",
      " 1   Brand                    50000 non-null  object\n",
      " 2   Product Code             50000 non-null  object\n",
      " 3   Product Specification    50000 non-null  object\n",
      " 4   Price                    50000 non-null  int64 \n",
      " 5   Inward Date              50000 non-null  object\n",
      " 6   Dispatch Date            50000 non-null  object\n",
      " 7   Quantity Sold            50000 non-null  int64 \n",
      " 8   Customer Name            50000 non-null  object\n",
      " 9   Customer Location        50000 non-null  object\n",
      " 10  Region                   50000 non-null  object\n",
      " 11  Core Specification       25017 non-null  object\n",
      " 12  Processor Specification  50000 non-null  object\n",
      " 13  RAM                      50000 non-null  object\n",
      " 14  ROM                      50000 non-null  object\n",
      " 15  SSD                      25017 non-null  object\n",
      "dtypes: int64(2), object(14)\n",
      "memory usage: 6.1+ MB\n",
      "None\n"
     ]
    }
   ],
   "source": [
    "import pandas as pd\n",
    "sales_data = pd.read_csv('../data/mobile_sales_data.csv')\n",
    "print(sales_data.info())"
   ]
  },
  {
   "cell_type": "code",
   "execution_count": 16,
   "id": "3ae4e2ae",
   "metadata": {},
   "outputs": [
    {
     "name": "stdout",
     "output_type": "stream",
     "text": [
      "Is Unique: True\n"
     ]
    }
   ],
   "source": [
    "print(f\"Is Unique: {sales_data['Product Code'].is_unique}\")"
   ]
  },
  {
   "cell_type": "code",
   "execution_count": 17,
   "id": "f5ad88ea",
   "metadata": {},
   "outputs": [
    {
     "name": "stdout",
     "output_type": "stream",
     "text": [
      "Daftar nilai unik di kolom Product:\n",
      "['Mobile Phone' 'Laptop']\n",
      "\n",
      "Distribusi nilai di kolom Product:\n",
      "Product\n",
      "Laptop          25017\n",
      "Mobile Phone    24983\n",
      "Name: count, dtype: int64\n"
     ]
    }
   ],
   "source": [
    "unique_products = sales_data['Product'].unique()\n",
    "print(\"Daftar nilai unik di kolom Product:\")\n",
    "print(unique_products)\n",
    "\n",
    "product_counts = sales_data['Product'].value_counts()\n",
    "print(\"\\nDistribusi nilai di kolom Product:\")\n",
    "print(product_counts)"
   ]
  },
  {
   "cell_type": "code",
   "execution_count": null,
   "id": "642e430d",
   "metadata": {},
   "outputs": [
    {
     "name": "stdout",
     "output_type": "stream",
     "text": [
      "Jumlah baris di laptop_sales.csv: 25017\n",
      "Jumlah baris di mobile_phone_sales.csv: 24983\n"
     ]
    }
   ],
   "source": [
    "mobile_phone_data = sales_data[sales_data['Product'] == 'Mobile Phone']\n",
    "laptop_data = sales_data[sales_data['Product'] == 'Laptop']\n",
    "\n",
    "path = '../data/tugas1/'\n",
    "mobile_phone_data.to_csv(path + 'mobile_phone_sales.csv', index=False)\n",
    "laptop_data.to_csv(path + 'laptop_sales.csv', index=False)\n",
    "\n",
    "print(f\"Jumlah baris di laptop_sales.csv: {len(laptop_data)}\")\n",
    "print(f\"Jumlah baris di mobile_phone_sales.csv: {len(mobile_phone_data)}\")"
   ]
  },
  {
   "cell_type": "markdown",
   "id": "fbf8d042",
   "metadata": {},
   "source": [
    "## Data Description"
   ]
  },
  {
   "cell_type": "code",
   "execution_count": 19,
   "id": "0d95a4a9",
   "metadata": {},
   "outputs": [
    {
     "data": {
      "text/html": [
       "<div>\n",
       "<style scoped>\n",
       "    .dataframe tbody tr th:only-of-type {\n",
       "        vertical-align: middle;\n",
       "    }\n",
       "\n",
       "    .dataframe tbody tr th {\n",
       "        vertical-align: top;\n",
       "    }\n",
       "\n",
       "    .dataframe thead th {\n",
       "        text-align: right;\n",
       "    }\n",
       "</style>\n",
       "<table border=\"1\" class=\"dataframe\">\n",
       "  <thead>\n",
       "    <tr style=\"text-align: right;\">\n",
       "      <th></th>\n",
       "      <th>Price</th>\n",
       "      <th>Quantity Sold</th>\n",
       "    </tr>\n",
       "  </thead>\n",
       "  <tbody>\n",
       "    <tr>\n",
       "      <th>count</th>\n",
       "      <td>50000.000000</td>\n",
       "      <td>50000.00000</td>\n",
       "    </tr>\n",
       "    <tr>\n",
       "      <th>mean</th>\n",
       "      <td>102641.407080</td>\n",
       "      <td>5.51378</td>\n",
       "    </tr>\n",
       "    <tr>\n",
       "      <th>std</th>\n",
       "      <td>56363.550361</td>\n",
       "      <td>2.88101</td>\n",
       "    </tr>\n",
       "    <tr>\n",
       "      <th>min</th>\n",
       "      <td>5008.000000</td>\n",
       "      <td>1.00000</td>\n",
       "    </tr>\n",
       "    <tr>\n",
       "      <th>25%</th>\n",
       "      <td>53487.000000</td>\n",
       "      <td>3.00000</td>\n",
       "    </tr>\n",
       "    <tr>\n",
       "      <th>50%</th>\n",
       "      <td>103072.000000</td>\n",
       "      <td>6.00000</td>\n",
       "    </tr>\n",
       "    <tr>\n",
       "      <th>75%</th>\n",
       "      <td>151396.250000</td>\n",
       "      <td>8.00000</td>\n",
       "    </tr>\n",
       "    <tr>\n",
       "      <th>max</th>\n",
       "      <td>199999.000000</td>\n",
       "      <td>10.00000</td>\n",
       "    </tr>\n",
       "  </tbody>\n",
       "</table>\n",
       "</div>"
      ],
      "text/plain": [
       "               Price  Quantity Sold\n",
       "count   50000.000000    50000.00000\n",
       "mean   102641.407080        5.51378\n",
       "std     56363.550361        2.88101\n",
       "min      5008.000000        1.00000\n",
       "25%     53487.000000        3.00000\n",
       "50%    103072.000000        6.00000\n",
       "75%    151396.250000        8.00000\n",
       "max    199999.000000       10.00000"
      ]
     },
     "metadata": {},
     "output_type": "display_data"
    }
   ],
   "source": [
    "display(sales_data.describe())"
   ]
  },
  {
   "cell_type": "code",
   "execution_count": 20,
   "id": "e6ebfc42",
   "metadata": {},
   "outputs": [
    {
     "name": "stdout",
     "output_type": "stream",
     "text": [
      "Product                    object\n",
      "Brand                      object\n",
      "Product Code               object\n",
      "Product Specification      object\n",
      "Price                       int64\n",
      "Inward Date                object\n",
      "Dispatch Date              object\n",
      "Quantity Sold               int64\n",
      "Customer Name              object\n",
      "Customer Location          object\n",
      "Region                     object\n",
      "Core Specification         object\n",
      "Processor Specification    object\n",
      "RAM                        object\n",
      "ROM                        object\n",
      "SSD                        object\n",
      "dtype: object\n"
     ]
    }
   ],
   "source": [
    "print(sales_data.dtypes)"
   ]
  },
  {
   "cell_type": "markdown",
   "id": "0a7810da",
   "metadata": {},
   "source": [
    "## Data Exploration (EDA)"
   ]
  },
  {
   "cell_type": "markdown",
   "id": "6afe46e7",
   "metadata": {},
   "source": [
    "## Data Quality"
   ]
  },
  {
   "cell_type": "code",
   "execution_count": 21,
   "id": "c05befe6",
   "metadata": {},
   "outputs": [
    {
     "name": "stdout",
     "output_type": "stream",
     "text": [
      "Product                        0\n",
      "Brand                          0\n",
      "Product Code                   0\n",
      "Product Specification          0\n",
      "Price                          0\n",
      "Inward Date                    0\n",
      "Dispatch Date                  0\n",
      "Quantity Sold                  0\n",
      "Customer Name                  0\n",
      "Customer Location              0\n",
      "Region                         0\n",
      "Core Specification         24983\n",
      "Processor Specification        0\n",
      "RAM                            0\n",
      "ROM                            0\n",
      "SSD                        24983\n",
      "dtype: int64\n"
     ]
    }
   ],
   "source": [
    "print(sales_data.isnull().sum())"
   ]
  }
 ],
 "metadata": {
  "kernelspec": {
   "display_name": ".venv (3.13.5)",
   "language": "python",
   "name": "python3"
  },
  "language_info": {
   "codemirror_mode": {
    "name": "ipython",
    "version": 3
   },
   "file_extension": ".py",
   "mimetype": "text/x-python",
   "name": "python",
   "nbconvert_exporter": "python",
   "pygments_lexer": "ipython3",
   "version": "3.13.5"
  }
 },
 "nbformat": 4,
 "nbformat_minor": 5
}
