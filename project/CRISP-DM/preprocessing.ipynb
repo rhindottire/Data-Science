{
 "cells": [
  {
   "cell_type": "markdown",
   "id": "e855a6b9",
   "metadata": {},
   "source": [
    "# Data Preparation"
   ]
  }
 ],
 "metadata": {
  "language_info": {
   "name": "python"
  }
 },
 "nbformat": 4,
 "nbformat_minor": 5
}
