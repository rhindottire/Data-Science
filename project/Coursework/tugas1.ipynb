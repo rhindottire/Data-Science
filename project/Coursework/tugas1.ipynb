{
 "cells": [
  {
   "cell_type": "markdown",
   "id": "ea2895b9",
   "metadata": {},
   "source": [
    "## Tugas 1"
   ]
  }
 ],
 "metadata": {
  "language_info": {
   "name": "python"
  }
 },
 "nbformat": 4,
 "nbformat_minor": 5
}
