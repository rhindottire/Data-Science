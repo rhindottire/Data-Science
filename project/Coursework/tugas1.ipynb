{
 "cells": [
  {
   "cell_type": "markdown",
   "id": "ea2895b9",
   "metadata": {},
   "source": [
    "## Tugas 1"
   ]
  },
  {
   "cell_type": "markdown",
   "id": "376e93fd",
   "metadata": {},
   "source": [
    "### Sumber data dari Kaggle:\n",
    "- [Iris dataset](https://www.kaggle.com/datasets/himanshunakrani/iris-dataset)\n",
    "- [Mobiles & laptop Sales Data](https://www.kaggle.com/datasets/vinothkannaece/mobiles-and-laptop-sales-data)"
   ]
  },
  {
   "cell_type": "markdown",
   "id": "0743acf0",
   "metadata": {},
   "source": [
    "### Apps Install\n",
    "\n",
    "![Apps](../img/tugas1/install.png)"
   ]
  },
  {
   "cell_type": "markdown",
   "id": "ed4e07db",
   "metadata": {},
   "source": [
    "#### 1. Orange\n",
    "\n",
    "![Orange](../img/tugas1/orange.png)\n",
    "\n",
    "#### 2. Exploratory \n",
    "\n",
    "![Orange](../img/tugas1/exploratory.png)\n",
    "\n",
    "\n",
    "#### 3. Power BI\n",
    "\n",
    "![Orange](../img/tugas1/power-bi.png)"
   ]
  },
  {
   "cell_type": "markdown",
   "id": "b7b88b8e",
   "metadata": {},
   "source": [
    "### Setup Jupyter Book\n",
    "\n",
    "![Jupyter Book](../img/tugas1/jupyter-book.png)"
   ]
  }
 ],
 "metadata": {
  "language_info": {
   "name": "python"
  }
 },
 "nbformat": 4,
 "nbformat_minor": 5
}
