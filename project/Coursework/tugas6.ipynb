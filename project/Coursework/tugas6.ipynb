{
 "cells": [
  {
   "cell_type": "markdown",
   "id": "30d24da3",
   "metadata": {},
   "source": [
    "## Tugas 6"
   ]
  }
 ],
 "metadata": {
  "language_info": {
   "name": "python"
  }
 },
 "nbformat": 4,
 "nbformat_minor": 5
}
