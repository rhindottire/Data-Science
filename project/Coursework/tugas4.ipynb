{
 "cells": [
  {
   "cell_type": "markdown",
   "id": "a9415541",
   "metadata": {},
   "source": [
    "## Tugas 4"
   ]
  }
 ],
 "metadata": {
  "language_info": {
   "name": "python"
  }
 },
 "nbformat": 4,
 "nbformat_minor": 5
}
