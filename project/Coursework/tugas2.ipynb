{
 "cells": [
  {
   "cell_type": "markdown",
   "id": "5f11274a",
   "metadata": {},
   "source": [
    "## Tugas 2"
   ]
  }
 ],
 "metadata": {
  "language_info": {
   "name": "python"
  }
 },
 "nbformat": 4,
 "nbformat_minor": 5
}
