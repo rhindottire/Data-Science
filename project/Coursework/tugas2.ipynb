{
 "cells": [
  {
   "cell_type": "markdown",
   "id": "5f11274a",
   "metadata": {},
   "source": [
    "## Tugas 2"
   ]
  },
  {
   "cell_type": "markdown",
   "id": "d2ea9226",
   "metadata": {},
   "source": [
    "Data understanding book [here](https://rhindottire.github.io/Data-Mining/Tugas1.html)\n",
    "\n",
    "1. [Variable Type](https://rhindottire.github.io/Data-Mining/Tugas1.html#data-types)\n",
    "\n",
    "| Jenis Variabel            | Deskripsi                                                                 | Contoh                                   |\n",
    "|---------------------------|---------------------------------------------------------------------------|------------------------------------------|\n",
    "| Quantitative (Numerik)    | Angka                                                                     | Umur (25 tahun), Berat (70 kg)           |\n",
    "| Qualitative (Kategorikal) | Klasifikasi                                                        | Jenis Kelamin (Pria/Wanita), Warna (Merah/Biru) |\n",
    "| Discrete                  | Variabel numerik yang hanya memiliki nilai terbatas atau terhitung.  | Jumlah Anak (1, 2, 3), Jumlah Mobil (0, 1, 2) |\n",
    "| Continuous                | Variabel numerik yang dapat mengambil nilai pecahan dalam rentang tertentu. | Tinggi Badan (165.5 cm), Suhu (36.7°C) |\n",
    "\n",
    "2. Measurement Scale\n",
    "\n",
    "| Skala Pengukuran | Deskripsi                                   | Contoh             | Karakteristik Utama                                |\n",
    "|------------------|---------------------------------------------|--------------------|----------------------------------------------------|\n",
    "| Nominal          | Mengelompokkan data berdasarkan kategori.   | Jenis Kelamin (L/P)| Tidak ada urutan, tidak ada jarak antar kategori.  |\n",
    "| Ordinal          | Kategori tidak terdefinisi atau tidak sama. | Tingkat Pendidikan | Ada urutan, tetapi tidak ada jarak yang terukur.   |\n",
    "| Interval         | Variabel numerik tanpa nol absolut.         | Suhu (°C atau °F)  | Jarak terukur dan mendukung beberapa operasi math. |\n",
    "| Rasio            | Variabel numerik dengan nol absolut.        | Berat dan Tinggi   | Jarak terukur, mendukung semua operasi matematis.  |"
   ]
  }
 ],
 "metadata": {
  "language_info": {
   "name": "python"
  }
 },
 "nbformat": 4,
 "nbformat_minor": 5
}
